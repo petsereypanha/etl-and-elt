{
 "cells": [
  {
   "metadata": {},
   "cell_type": "markdown",
   "source": "# Extracting non-tabular data",
   "id": "89f2c4c6108fbcc2"
  },
  {
   "metadata": {},
   "cell_type": "markdown",
   "source": [
    "### Ingesting JSON data with pandas\n",
    "When developing a data pipeline, you may have to work with non-tabular data and data sources, such as APIs or JSON files. In this exercise, we'll practice extracting data from a JSON file using pandas.\n",
    "\n",
    "pandas has been imported as pd, and the JSON file you'll ingest is stored at the path \"testing_scores.json\"."
   ],
   "id": "ec7b0c92cd6f878f"
  },
  {
   "metadata": {},
   "cell_type": "code",
   "outputs": [],
   "execution_count": null,
   "source": [
    "import pandas as pd\n",
    "\n",
    "\n",
    "def extract(file_path):\n",
    "  # Read the JSON file into a DataFrame\n",
    "  return pd.read_json(file_path, orient=\"records\")\n",
    "\n",
    "# Call the extract function with the appropriate path, assign to raw_testing_scores\n",
    "raw_testing_scores = extract(\"testing_scores.json\")\n",
    "\n",
    "# Output the head of the DataFrame\n",
    "print(raw_testing_scores.head())\n"
   ],
   "id": "d6752fe40d06d1d9"
  },
  {
   "metadata": {},
   "cell_type": "markdown",
   "source": [
    "### Reading JSON data into memory\n",
    "When data is stored in JSON format, it's not always easy to load into a DataFrame. This is the case for the \"nested_testing_scores.json\" file. Here, the data will have to be manually manipulated before it can be stored in a DataFrame.\n",
    "\n",
    "To help get you started, pandas has been loaded into the workspace as pd."
   ],
   "id": "4a10339831a43d0f"
  },
  {
   "metadata": {},
   "cell_type": "code",
   "outputs": [],
   "execution_count": null,
   "source": [
    "def extract(file_path):\n",
    "  \t# Read the JSON file into a DataFrame, orient by index\n",
    "\treturn pd.read_json(file_path, orient=\"index\")\n",
    "\n",
    "# Call the extract function, pass in the desired file_path\n",
    "raw_testing_scores = extract(\"nested_scores.json\")\n",
    "print(raw_testing_scores.head())\n"
   ],
   "id": "1fddf9bf731e7036"
  },
  {
   "metadata": {},
   "cell_type": "code",
   "outputs": [],
   "execution_count": null,
   "source": [
    "# Import the json library\n",
    "import json\n",
    "\n",
    "def extract(file_path):\n",
    "    with open(file_path, \"r\") as json_file:\n",
    "        # Load the data from the JSON file\n",
    "        raw_data = json.load(json_file)\n",
    "    return raw_data\n",
    "\n",
    "raw_testing_scores = extract(\"nested_scores.json\")\n",
    "\n",
    "# Print the raw_testing_scores\n",
    "print(raw_testing_scores)"
   ],
   "id": "3c0b3bdd4e0c6563"
  }
 ],
 "metadata": {
  "kernelspec": {
   "display_name": "Python 3",
   "language": "python",
   "name": "python3"
  },
  "language_info": {
   "codemirror_mode": {
    "name": "ipython",
    "version": 2
   },
   "file_extension": ".py",
   "mimetype": "text/x-python",
   "name": "python",
   "nbconvert_exporter": "python",
   "pygments_lexer": "ipython2",
   "version": "2.7.6"
  }
 },
 "nbformat": 4,
 "nbformat_minor": 5
}
